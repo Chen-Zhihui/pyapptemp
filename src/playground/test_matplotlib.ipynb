{
 "cells": [
  {
   "cell_type": "code",
   "execution_count": 4,
   "metadata": {},
   "outputs": [
    {
     "data": {
      "text/plain": [
       "Text(0.5, 1.0, 'Number of\\n Users of a \\nparticular Language')"
      ]
     },
     "execution_count": 4,
     "metadata": {},
     "output_type": "execute_result"
    },
    {
     "data": {
      "image/png": "[encoded data removed]",
      "text/plain": [
       "<Figure size 432x288 with 1 Axes>"
      ]
     },
     "metadata": {
      "needs_background": "light"
     },
     "output_type": "display_data"
    }
   ],
   "source": [
    "# importing modules  \n",
    "import matplotlib.pyplot as plt \n",
    "import numpy as np \n",
    "  \n",
    "# assigning x and y coordinates \n",
    "language = ['C','C++','Java','Python'] \n",
    "users = [80,60,130,150] \n",
    "  \n",
    "# depicting the visualization \n",
    "index = np.arange(len(language)) \n",
    "plt.bar(index, users, color='green') \n",
    "plt.xlabel('Users') \n",
    "plt.ylabel('Language') \n",
    "plt.xticks(index, language) \n",
    "  \n",
    "# displaying the title \n",
    "plt.title(label='Number of\\n Users of a \\nparticular Language',  \n",
    "          fontweight=10,  \n",
    "          pad='20.0')"
   ]
  },
  {
   "cell_type": "code",
   "execution_count": null,
   "metadata": {},
   "outputs": [],
   "source": []
  }
 ],
 "metadata": {
  "kernelspec": {
   "display_name": "Python 3.8.13 ('py38')",
   "language": "python",
   "name": "python3"
  },
  "language_info": {
   "codemirror_mode": {
    "name": "ipython",
    "version": 3
   },
   "file_extension": ".py",
   "mimetype": "text/x-python",
   "name": "python",
   "nbconvert_exporter": "python",
   "pygments_lexer": "ipython3",
   "version": "3.8.13"
  },
  "orig_nbformat": 4,
  "vscode": {
   "interpreter": {
    "hash": "b1f8b0b94a3b6216cc126974d83e1e26f3027fea048b0cafc72e6a1bbe3032aa"
   }
  }
 },
 "nbformat": 4,
 "nbformat_minor": 2
}
