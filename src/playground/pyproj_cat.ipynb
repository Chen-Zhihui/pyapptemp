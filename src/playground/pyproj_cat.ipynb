{
 "cells": [
  {
   "cell_type": "code",
   "execution_count": 2,
   "metadata": {},
   "outputs": [],
   "source": [
    "import pyproj\n",
    "from pyproj import Geod"
   ]
  },
  {
   "cell_type": "code",
   "execution_count": 3,
   "metadata": {},
   "outputs": [],
   "source": [
    "# WGS84椭球体\n",
    "g = Geod(ellps='WGS84')"
   ]
  },
  {
   "cell_type": "code",
   "execution_count": 4,
   "metadata": {},
   "outputs": [
    {
     "name": "stdout",
     "output_type": "stream",
     "text": [
      "dlat=1.0400237516777822, dlon=-358.96693742326255\n",
      "(1.0400237516777822, -1.0400237516777822, -179.96693742326255, 537.9669374232626)\n",
      "dlat=1.0400237516777822, dlon=1.03306257673745\n",
      "(1.0400237516777822, -1.0400237516777822, -178.96693742326255, -181.03306257673745)\n",
      "dlat=-1.0296000337992979, dlon=90.0\n",
      "(88.9703999662007, 91.0296000337993, 90.0, -90.0)\n",
      "dlat=1.0296000337992979, dlon=90.0\n",
      "(-88.9703999662007, -91.0296000337993, 90.0, -90.0)\n"
     ]
    }
   ],
   "source": [
    "def boundary(lat, lon, d, g):\n",
    "    \"\"\"\n",
    "    给定目标点经纬度坐标，和目标到影像中心点最远距离，\n",
    "    返回值，南北的纬度，东西的经度\n",
    "    \"\"\"\n",
    "    new_lon, new_lat, az = g.fwd(lon, lat, 0, d)\n",
    "    dlat = new_lat - lat\n",
    "    # print(f'new_lon={new_lon}, new_lat={new_lat}, da={dlat}')\n",
    "    new_lon, new_lat, az = g.fwd(lon, lat, 90, d)\n",
    "    dlon = new_lon - lon\n",
    "    # print(f'new_lon={new_lon}, new_lat={new_lat}, do={dlon}')\n",
    "\n",
    "    nlat = lat + dlat\n",
    "    slat = lat - dlat\n",
    "    elon = lon + dlon\n",
    "    wlon = lon - dlon\n",
    "\n",
    "    print(f\"dlat={dlat}, dlon={dlon}\")\n",
    "\n",
    "    return nlat, slat, elon, wlon\n",
    "\n",
    "def test_boundary():\n",
    "    # WGS84椭球体\n",
    "    g = Geod(ellps='WGS84')\n",
    "    d = 115 * 1000 # 5.5 * 1000 # 7.7*1000\n",
    "    for lat in range(-90, 90, 30):\n",
    "        for lon in range(-180, 180, 60):\n",
    "            nlat, slat, elon, wlon = boundary(lat, lon, d, g)\n",
    "            print(f\"nlat={nlat}, slat={slat}, elon={elon}, wlon={wlon}\")\n",
    "\n",
    "# test_boundary()\n",
    "g = Geod(ellps='WGS84')\n",
    "d = 115 * 1000 # 5.5 * 1000 # 7.7*1000\n",
    "print(boundary(0, 179, d, g))\n",
    "print(boundary(0, -180, d, g))\n",
    "print(boundary(90, 0, d, g))\n",
    "print(boundary(-90, 0, d, g))"
   ]
  },
  {
   "cell_type": "code",
   "execution_count": 5,
   "metadata": {},
   "outputs": [
    {
     "name": "stdout",
     "output_type": "stream",
     "text": [
      "0.06782771046061067\n"
     ]
    }
   ],
   "source": [
    "def dlon_at_lat(lat, d, g):\n",
    "    \"\"\"\n",
    "    纬度lat处，大地距离d，对应的经度变化\n",
    "    不同纬度上，距离d对应的经度变化不同\n",
    "    \"\"\"\n",
    "    new_lon, new_lat, az = g.fwd(0, lat, 90, d)\n",
    "    dlon = new_lon - 0\n",
    "    return dlon\n",
    "\n",
    "def dlat_at_lat(lat, d ,g):\n",
    "    \"\"\"\n",
    "    大地距离d对应的纬度变化\n",
    "    经线是测地线，距离d对应的纬度即变化纬度\n",
    "    \"\"\"\n",
    "    new_lon, new_lat, az = g.fwd(0, 0, 0, d)\n",
    "    dlat = new_lat - 0\n",
    "    return dlat\n",
    "\n",
    "d = 7.5 * 1000\n",
    "dlat_polor = dlat_at_lat(0, d, g)\n",
    "print(dlat_polor)"
   ]
  },
  {
   "cell_type": "code",
   "execution_count": 6,
   "metadata": {},
   "outputs": [
    {
     "name": "stdout",
     "output_type": "stream",
     "text": [
      "90.0\n",
      "7.901012968231893\n"
     ]
    }
   ],
   "source": [
    "d = 15.5 * 1000 # 5.5 * 1000 # 7.7*1000\n",
    "g = Geod(ellps='WGS84')\n",
    "lat_beg, lat_end = -90, 89\n",
    "for lat in [lat_beg, lat_end]:\n",
    "    print(dlon_at_lat(lat, d, g))"
   ]
  },
  {
   "cell_type": "code",
   "execution_count": 7,
   "metadata": {},
   "outputs": [
    {
     "data": {
      "image/png": "[encoded data removed]",
      "text/plain": [
       "<Figure size 432x288 with 1 Axes>"
      ]
     },
     "metadata": {
      "needs_background": "light"
     },
     "output_type": "display_data"
    }
   ],
   "source": [
    "import matplotlib.pyplot as plt\n",
    "dlat = (lat_end - lat_beg)*0.001\n",
    "for d in [15.5 * 1000, 110 * 1000] :\n",
    "    x = [lat_beg + i * dlat for i in range(1001)]\n",
    "    y = [dlon_at_lat(lat, d , g) for lat in x]\n",
    "    plt.plot(x,y)"
   ]
  },
  {
   "cell_type": "code",
   "execution_count": 8,
   "metadata": {},
   "outputs": [
    {
     "data": {
      "text/plain": [
       "64800"
      ]
     },
     "execution_count": 8,
     "metadata": {},
     "output_type": "execute_result"
    }
   ],
   "source": [
    "360*180"
   ]
  },
  {
   "cell_type": "code",
   "execution_count": null,
   "metadata": {},
   "outputs": [],
   "source": []
  }
 ],
 "metadata": {
  "interpreter": {
   "hash": "b37c2a6cdaaf636c2b36a869a85a6e48ad21fb644c55d998d080048a46fbfd93"
  },
  "kernelspec": {
   "display_name": "Python 3.6.13 ('py36')",
   "language": "python",
   "name": "python3"
  },
  "language_info": {
   "codemirror_mode": {
    "name": "ipython",
    "version": 3
   },
   "file_extension": ".py",
   "mimetype": "text/x-python",
   "name": "python",
   "nbconvert_exporter": "python",
   "pygments_lexer": "ipython3",
   "version": "3.8.13"
  },
  "orig_nbformat": 4
 },
 "nbformat": 4,
 "nbformat_minor": 2
}
