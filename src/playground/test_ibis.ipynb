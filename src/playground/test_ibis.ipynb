{
 "cells": [
  {
   "cell_type": "markdown",
   "metadata": {},
   "source": [
    "# install\n",
    "## pip and conda\n",
    "```bash\n",
    "pip install ibis-framework\n",
    "pip install ibis-framework[mysql]\n",
    "pip install ibis-framework[sqlite]\n",
    "```\n",
    "\n",
    "```bash\n",
    "conda install -c conda-forge ibis-framework\n",
    "conda install -c conda-forge ibis-mysql\n",
    "conda install -c conda-forge ibis-sqlite\n",
    "```\n",
    "## data\n",
    "\n",
    "download\n",
    "\n",
    "https://storage.googleapis.com/ibis-tutorial-data/geography.db\n",
    "\n",
    "homedir"
   ]
  },
  {
   "cell_type": "code",
   "execution_count": 4,
   "metadata": {},
   "outputs": [],
   "source": [
    "import os\n",
    "import ibis\n",
    "import tempfile"
   ]
  },
  {
   "cell_type": "code",
   "execution_count": 5,
   "metadata": {},
   "outputs": [],
   "source": [
    "connection = ibis.sqlite.connect(os.path.join(tempfile.gettempdir(), 'geography.db'))"
   ]
  },
  {
   "cell_type": "code",
   "execution_count": 6,
   "metadata": {},
   "outputs": [
    {
     "data": {
      "text/plain": [
       "['countries', 'gdp', 'independence']"
      ]
     },
     "execution_count": 6,
     "metadata": {},
     "output_type": "execute_result"
    }
   ],
   "source": [
    "connection.list_tables()"
   ]
  },
  {
   "cell_type": "code",
   "execution_count": null,
   "metadata": {},
   "outputs": [],
   "source": []
  }
 ],
 "metadata": {
  "interpreter": {
   "hash": "b37c2a6cdaaf636c2b36a869a85a6e48ad21fb644c55d998d080048a46fbfd93"
  },
  "kernelspec": {
   "display_name": "Python 3.6.13 ('py36')",
   "language": "python",
   "name": "python3"
  },
  "language_info": {
   "codemirror_mode": {
    "name": "ipython",
    "version": 3
   },
   "file_extension": ".py",
   "mimetype": "text/x-python",
   "name": "python",
   "nbconvert_exporter": "python",
   "pygments_lexer": "ipython3",
   "version": "3.8.13"
  },
  "orig_nbformat": 4
 },
 "nbformat": 4,
 "nbformat_minor": 2
}
