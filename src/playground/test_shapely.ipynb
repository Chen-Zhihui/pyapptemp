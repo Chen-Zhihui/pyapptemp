{
 "cells": [
  {
   "cell_type": "code",
   "execution_count": 6,
   "metadata": {},
   "outputs": [
    {
     "data": {
      "image/svg+xml": "<svg xmlns=\"http://www.w3.org/2000/svg\" xmlns:xlink=\"http://www.w3.org/1999/xlink\" width=\"100.0\" height=\"100.0\" viewBox=\"-10.8 -10.8 21.6 21.6\" preserveAspectRatio=\"xMinYMin meet\"><g transform=\"matrix(1,0,0,-1,0,0.0)\"><path fill-rule=\"evenodd\" fill=\"#66cc99\" stroke=\"#555555\" stroke-width=\"0.43200000000000005\" opacity=\"0.6\" d=\"M 10.0,0.0 L 9.95184726672197,-0.980171403295605 L 9.807852804032306,-1.9509032201612808 L 9.56940335732209,-2.902846772544621 L 9.23879532511287,-3.826834323650894 L 8.819212643483553,-4.713967368259972 L 8.314696123025456,-5.555702330196017 L 7.730104533627374,-6.343932841636449 L 7.071067811865481,-7.071067811865469 L 6.3439328416364615,-7.7301045336273635 L 5.555702330196031,-8.314696123025447 L 4.713967368259986,-8.819212643483546 L 3.8268343236509086,-9.238795325112862 L 2.902846772544636,-9.569403357322084 L 1.9509032201612964,-9.807852804032303 L 0.9801714032956209,-9.951847266721966 L 1.6155445744325867e-14,-10.0 L -0.9801714032955888,-9.95184726672197 L -1.9509032201612646,-9.807852804032308 L -2.902846772544605,-9.569403357322095 L -3.8268343236508784,-9.238795325112875 L -4.713967368259957,-8.81921264348356 L -5.555702330196005,-8.314696123025463 L -6.343932841636439,-7.730104533627382 L -7.071067811865462,-7.071067811865489 L -7.730104533627359,-6.343932841636468 L -8.314696123025444,-5.555702330196036 L -8.819212643483542,-4.71396736825999 L -9.238795325112862,-3.8268343236509113 L -9.569403357322084,-2.9028467725446365 L -9.807852804032303,-1.9509032201612948 L -9.951847266721968,-0.9801714032956171 L -10.0,-1.0106430996148605e-14 L -9.95184726672197,0.980171403295597 L -9.807852804032306,1.950903220161275 L -9.569403357322091,2.902846772544617 L -9.23879532511287,3.826834323650892 L -8.819212643483553,4.713967368259972 L -8.314696123025454,5.55570233019602 L -7.730104533627371,6.343932841636453 L -7.071067811865477,7.071067811865475 L -6.343932841636459,7.730104533627367 L -5.55570233019603,8.314696123025447 L -4.713967368259987,8.819212643483546 L -3.8268343236509117,9.238795325112862 L -2.902846772544641,9.569403357322084 L -1.9509032201613041,9.8078528040323 L -0.980171403295631,9.951847266721966 L -2.848232278972479e-14,10.0 L 0.9801714032955743,9.951847266721972 L 1.9509032201612482,9.807852804032311 L 2.902846772544587,9.569403357322098 L 3.826834323650859,9.238795325112884 L 4.713967368259937,8.81921264348357 L 5.555702330195982,8.31469612302548 L 6.3439328416364145,7.730104533627403 L 7.0710678118654355,7.071067811865515 L 7.730104533627332,6.343932841636501 L 8.314696123025417,5.555702330196074 L 8.81921264348352,4.713967368260034 L 9.238795325112841,3.826834323650962 L 9.569403357322066,2.9028467725446925 L 9.80785280403229,1.950903220161357 L 9.95184726672196,0.9801714032956848 L 10.0,8.238535137130597e-14 L 10.0,0.0 z\" /></g></svg>",
      "text/plain": [
       "<shapely.geometry.polygon.Polygon at 0x2a66e818400>"
      ]
     },
     "execution_count": 6,
     "metadata": {},
     "output_type": "execute_result"
    }
   ],
   "source": [
    "import shapely\n",
    "from shapely.geometry import Point, LineString, Polygon, LinearRing, MultiPoint, MultiLineString, MultiPolygon\n",
    "shapely.__version__\n",
    "patch = Point(0.0, 0.0).buffer(10.0)\n",
    "patch "
   ]
  },
  {
   "cell_type": "code",
   "execution_count": 7,
   "metadata": {},
   "outputs": [
    {
     "data": {
      "text/plain": [
       "True"
      ]
     },
     "execution_count": 7,
     "metadata": {},
     "output_type": "execute_result"
    }
   ],
   "source": [
    "# 加速\n",
    "from shapely import speedups\n",
    "speedups.available"
   ]
  },
  {
   "cell_type": "code",
   "execution_count": 8,
   "metadata": {},
   "outputs": [
    {
     "data": {
      "text/plain": [
       "True"
      ]
     },
     "execution_count": 8,
     "metadata": {},
     "output_type": "execute_result"
    }
   ],
   "source": [
    "# empty 集合\n",
    "line = LineString()\n",
    "line.is_empty"
   ]
  },
  {
   "cell_type": "code",
   "execution_count": 9,
   "metadata": {},
   "outputs": [
    {
     "data": {
      "text/plain": [
       "False"
      ]
     },
     "execution_count": 9,
     "metadata": {},
     "output_type": "execute_result"
    }
   ],
   "source": [
    "# predict\n",
    "line.has_z\n",
    "line.is_closed\n",
    "line.is_empty\n",
    "line.is_simple\n",
    "line.is_valid\n",
    "line.is_ring\n"
   ]
  },
  {
   "cell_type": "code",
   "execution_count": 10,
   "metadata": {},
   "outputs": [
    {
     "data": {
      "text/plain": [
       "True"
      ]
     },
     "execution_count": 10,
     "metadata": {},
     "output_type": "execute_result"
    }
   ],
   "source": [
    "# 逆时针\n",
    "LinearRing([(1,0), (1,1), (0,0)]).is_ccw"
   ]
  },
  {
   "cell_type": "code",
   "execution_count": 14,
   "metadata": {},
   "outputs": [
    {
     "data": {
      "text/plain": [
       "1"
      ]
     },
     "execution_count": 14,
     "metadata": {},
     "output_type": "execute_result"
    }
   ],
   "source": [
    "# 过滤\n",
    "from operator import attrgetter\n",
    "len([filter(attrgetter('is_empty'), [Point(), Point(0, 0)])])"
   ]
  },
  {
   "cell_type": "code",
   "execution_count": 18,
   "metadata": {},
   "outputs": [
    {
     "data": {
      "text/plain": [
       "True"
      ]
     },
     "execution_count": 18,
     "metadata": {},
     "output_type": "execute_result"
    }
   ],
   "source": [
    "# \n",
    "o = Polygon()\n",
    "l = LineString()\n",
    "o.almost_equals(l)\n",
    "\n",
    "# object.contains(other), a.contains(b) == b.within(a)\n",
    "o.contains(l)\n",
    "\n",
    "coords = [(0, 0), (1, 1)]\n",
    "LineString(coords).contains(Point(0.5, 0.5)) # true\n",
    "Point(0.5, 0.5).within(LineString(coords)) # true\n",
    "LineString(coords).contains(Point(1.0, 1.0)) # false"
   ]
  },
  {
   "cell_type": "code",
   "execution_count": 19,
   "metadata": {},
   "outputs": [
    {
     "data": {
      "text/plain": [
       "1"
      ]
     },
     "execution_count": 19,
     "metadata": {},
     "output_type": "execute_result"
    }
   ],
   "source": [
    "# filter, itertools.ifilter()\n",
    "line = LineString(coords)\n",
    "len([filter(line.contains, [Point(), Point(0.5, 0.5)])])"
   ]
  },
  {
   "cell_type": "code",
   "execution_count": null,
   "metadata": {},
   "outputs": [],
   "source": [
    "# crosses, disjoint, equals, intersects, touches, within, contains, "
   ]
  }
 ],
 "metadata": {
  "interpreter": {
   "hash": "cfcb486c4bf238162185224c2bc2b600f6bcb247a756fdd0c44d8d8f92e84692"
  },
  "kernelspec": {
   "display_name": "Python 3.8.8 ('base')",
   "language": "python",
   "name": "python3"
  },
  "language_info": {
   "codemirror_mode": {
    "name": "ipython",
    "version": 3
   },
   "file_extension": ".py",
   "mimetype": "text/x-python",
   "name": "python",
   "nbconvert_exporter": "python",
   "pygments_lexer": "ipython3",
   "version": "3.8.8"
  },
  "orig_nbformat": 4
 },
 "nbformat": 4,
 "nbformat_minor": 2
}
